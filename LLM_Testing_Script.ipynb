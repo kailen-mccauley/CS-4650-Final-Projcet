{
 "cells": [
  {
   "cell_type": "markdown",
   "id": "473e36b6",
   "metadata": {},
   "source": [
    "# Imports"
   ]
  },
  {
   "cell_type": "code",
   "execution_count": 1,
   "id": "b092e5f6",
   "metadata": {},
   "outputs": [],
   "source": [
    "# If any are needed just add them here!\n",
    "import json"
   ]
  },
  {
   "cell_type": "markdown",
   "id": "b96ab9f9",
   "metadata": {},
   "source": [
    "# Prompt Template"
   ]
  },
  {
   "cell_type": "code",
   "execution_count": null,
   "id": "b4d71f2c",
   "metadata": {},
   "outputs": [
    {
     "name": "stdout",
     "output_type": "stream",
     "text": [
      "Perform sentiment analysis on this sentence, which may contain a mix of English and Spanish (commonly referred to as Spanglish). Consider both languages and cultural context to determine sentiment. Choose from these categories:\n",
      "{\"positive\", \"negative\", \"neutral\"}\n",
      "\n",
      "Sentence: After this I 'm just gonna go home drink summ hot chocolate con bolillo and sleep\n",
      "\n",
      "Respond in JSON format with:\n",
      "- \"prediction\": the predicted category\n",
      "- \"confidence\": your confidence score (0-1)\n",
      "- \"reason\": include any bilingual or cultural cues that influenced your decision\n",
      "\n",
      "Example response:\n",
      "{\"prediction\": \"positive\", \"confidence\": 0.92, \"reason\": \"The sentence contains affectionate language and positive slang common in both cultures\"}\n"
     ]
    }
   ],
   "source": [
    "PROMPT_TEMPLATE = \"\"\"Perform sentiment analysis on this sentence. Choose from these categories:\n",
    "{{\"positive\", \"negative\", \"neutral\"}}\n",
    "\n",
    "Sentence: {sentence}\n",
    "\n",
    "Respond in JSON format with:\n",
    "- \"prediction\": the predicted category\n",
    "- \"confidence\": your confidence score (0-1)\n",
    "- \"reason\": brief explanation\n",
    "\n",
    "Example response:\n",
    "{{\"prediction\": \"positive\", \"confidence\": 0.95, \"reason\": \"The sentence contains positive adjectives\"}}\"\"\"\n",
    "\n",
    "PROMPT_TEMPLATE_CONTEXTUAL = \"\"\"Perform sentiment analysis on this sentence, which may include English and Spanish mixed together (Spanglish). Choose from these categories:\n",
    "{{\"positive\", \"negative\", \"neutral\"}}\n",
    "\n",
    "Sentence: {sentence}\n",
    "\n",
    "Respond in JSON format with:\n",
    "- \"prediction\": the predicted category\n",
    "- \"confidence\": your confidence score (0-1)\n",
    "- \"reason\": brief explanation\n",
    "\n",
    "Example response:\n",
    "{{\"prediction\": \"neutral\", \"confidence\": 0.80, \"reason\": \"The sentence is descriptive without any strong sentiment\"}}\"\"\"\n",
    "\n",
    "\n",
    "PROMPT_TEMPLATE_DETAILED = \"\"\"Perform sentiment analysis on this sentence, which may contain a mix of English and Spanish (commonly referred to as Spanglish). Consider both languages and cultural context to determine sentiment. Choose from these categories:\n",
    "{{\"positive\", \"negative\", \"neutral\"}}\n",
    "\n",
    "Sentence: {sentence}\n",
    "\n",
    "Respond in JSON format with:\n",
    "- \"prediction\": the predicted category\n",
    "- \"confidence\": your confidence score (0-1)\n",
    "- \"reason\": include any bilingual or cultural cues that influenced your decision\n",
    "\n",
    "Example response:\n",
    "{{\"prediction\": \"positive\", \"confidence\": 0.92, \"reason\": \"The sentence contains affectionate language and positive slang common in both cultures\"}}\"\"\"\n",
    "\n",
    "\n",
    "def format_prompt(sentence, template):\n",
    "    formattedPrompt = template.format(\n",
    "        sentence=sentence\n",
    "    )\n",
    "    return formattedPrompt\n",
    "\n",
    "\n",
    "# Example for testing purposes to ensure format_prompt() is working as intended\n",
    "# Uncomment to retest if you make changes!\n",
    "\n",
    "# with open('spanglish_dataset.json', 'r', encoding='utf-8') as f:\n",
    "#     data = json.load(f)\n",
    "\n",
    "# for entry in data:\n",
    "#     print(format_prompt(entry[\"sentence\"], PROMPT_TEMPLATE_DETAILED))\n",
    "#     break"
   ]
  },
  {
   "cell_type": "markdown",
   "id": "56725af2",
   "metadata": {},
   "source": [
    "# Saving Results\n",
    "\n",
    "The results will be saved in this format:\n",
    "\n",
    "id, sentence, gold_label, prediction, confidence, reason, timestamp\n",
    "\n",
    "id = id from current sentance (see spanglish_dataset.json)\n",
    "sentence = sentence from current sentance (see spanglish_dataset.json)\n",
    "gold_label = gold_label from current sentance (see spanglish_dataset.json)\n",
    "prediction = model sentiment prediction "
   ]
  },
  {
   "cell_type": "markdown",
   "id": "995dea33",
   "metadata": {},
   "source": [
    "### CSV"
   ]
  },
  {
   "cell_type": "code",
   "execution_count": null,
   "id": "4fd1c813",
   "metadata": {},
   "outputs": [],
   "source": [
    "import csv\n",
    "\n",
    "def save_to_csv(results):\n",
    "    with open(OUTPUT_FILE, \"w\", newline=\"\") as f:\n",
    "        writer = csv.DictWriter(f, fieldnames=results[0].keys())\n",
    "        writer.writeheader()\n",
    "        writer.writerows(results)"
   ]
  },
  {
   "cell_type": "markdown",
   "id": "e74f818e",
   "metadata": {},
   "source": [
    "### JSON"
   ]
  },
  {
   "cell_type": "code",
   "execution_count": null,
   "id": "a244ea9f",
   "metadata": {},
   "outputs": [],
   "source": [
    "import json\n",
    "\n",
    "def save_to_json(results):\n",
    "    with open(\"predictions.json\", \"w\") as f:\n",
    "        json.dump(results, f, indent=2)"
   ]
  }
 ],
 "metadata": {
  "kernelspec": {
   "display_name": "SpanglishEnv",
   "language": "python",
   "name": "python3"
  },
  "language_info": {
   "codemirror_mode": {
    "name": "ipython",
    "version": 3
   },
   "file_extension": ".py",
   "mimetype": "text/x-python",
   "name": "python",
   "nbconvert_exporter": "python",
   "pygments_lexer": "ipython3",
   "version": "3.10.16"
  }
 },
 "nbformat": 4,
 "nbformat_minor": 5
}
